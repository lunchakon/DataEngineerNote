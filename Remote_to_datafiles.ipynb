{
 "cells": [
  {
   "cell_type": "code",
   "execution_count": 7,
   "metadata": {
    "collapsed": true,
    "ExecuteTime": {
     "start_time": "2023-07-04T11:47:38.942308Z",
     "end_time": "2023-07-04T11:47:54.513502Z"
    }
   },
   "outputs": [
    {
     "name": "stdout",
     "output_type": "stream",
     "text": [
      "Data has been appended to output.csv\n"
     ]
    }
   ],
   "source": [
    "import os\n",
    "import csv\n",
    "import paramiko\n",
    "import xml.etree.ElementTree as ET\n",
    "\n",
    "# Remote server details #\n",
    "# SNGMDBB14\n",
    "hostname = 'IP address'\n",
    "username = 'username'\n",
    "password = 'pass'\n",
    "\n",
    "# Directory path containing XML files on the remote server\n",
    "remote_directory = '/opt/XXX/datafiles/XXX/'\n",
    "# Local directory to store copy of downloaded XML files\n",
    "local_directory = './downloaded_xml/'\n",
    "output_file = 'XXX_OUTPUT.csv'\n",
    "\n",
    "# Create a Paramiko SSH client\n",
    "ssh_client = paramiko.SSHClient()\n",
    "\n",
    "# Automatically add the remote server's host key\n",
    "ssh_client.set_missing_host_key_policy(paramiko.AutoAddPolicy())\n",
    "\n",
    "# Connect to the remote server\n",
    "ssh_client.connect(hostname=hostname, username=username, password=password)\n",
    "\n",
    "# Create the local directory if it doesn't exist\n",
    "os.makedirs(local_directory, exist_ok=True)\n",
    "\n",
    "# List to store extracted data\n",
    "data = []\n",
    "\n",
    "# Retrieve the XML files from the remote directory\n",
    "ftp_client = ssh_client.open_sftp()\n",
    "xml_files = ftp_client.listdir(remote_directory)\n",
    "\n",
    "# Download and process each XML file\n",
    "for filename in xml_files:\n",
    "    if filename.endswith('.xml'):\n",
    "        remote_file_path = os.path.join(remote_directory, filename)\n",
    "        local_file_path = os.path.join(local_directory, filename)\n",
    "\n",
    "        # Download the XML file from the remote server\n",
    "        ftp_client.get(remote_file_path, local_file_path)\n",
    "\n",
    "        # Parse the downloaded XML file\n",
    "        tree = ET.parse(local_file_path)\n",
    "        root = tree.getroot()\n",
    "\n",
    "        # Extract desired data from the XML file\n",
    "        for target_service in root.iter('targetService'):\n",
    "            for tickers in target_service.iter('tickers'):\n",
    "                for mapping in tickers.iter('mapping'):\n",
    "                    sr = mapping.get('sr')\n",
    "                    records = mapping.get('record')\n",
    "                    source_dataset = tickers.get('sourceDataset')\n",
    "                    field_maps = tickers.get('fieldMaps')\n",
    "\n",
    "                    # Append extracted data to the list\n",
    "                    data.append([target_service.get('name'), records, sr, source_dataset, field_maps])\n",
    "# Close the FTP client and SSH connection\n",
    "ftp_client.close()\n",
    "ssh_client.close()\n",
    "\n",
    "# Write the extracted data to the output CSV file\n",
    "with open(output_file, 'a', newline='') as csvfile:\n",
    "    writer = csv.writer(csvfile)\n",
    "\n",
    "    # Write the header row\n",
    "    writer.writerow(['targetService','record', 'sr', 'sourceDataset', 'fieldMaps'])\n",
    "\n",
    "    # Write the data rows\n",
    "    writer.writerows(data)\n",
    "\n",
    "print('Data has been appended to', output_file)\n"
   ]
  },
  {
   "cell_type": "code",
   "execution_count": null,
   "outputs": [],
   "source": [],
   "metadata": {
    "collapsed": false
   }
  }
 ],
 "metadata": {
  "kernelspec": {
   "display_name": "Python 3",
   "language": "python",
   "name": "python3"
  },
  "language_info": {
   "codemirror_mode": {
    "name": "ipython",
    "version": 2
   },
   "file_extension": ".py",
   "mimetype": "text/x-python",
   "name": "python",
   "nbconvert_exporter": "python",
   "pygments_lexer": "ipython2",
   "version": "2.7.6"
  }
 },
 "nbformat": 4,
 "nbformat_minor": 0
}
