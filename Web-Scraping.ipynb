{
 "cells": [
  {
   "cell_type": "code",
   "execution_count": 48,
   "metadata": {
    "collapsed": true,
    "ExecuteTime": {
     "start_time": "2024-05-20T16:08:20.722777Z",
     "end_time": "2024-05-20T16:08:20.752247Z"
    }
   },
   "outputs": [
    {
     "data": {
      "text/plain": "    x  column2_x column3_x  column2_y column3_y\n0   1       -1.3   value_1      123.0        T1\n1   4       -1.4   value_2       23.0        T2\n2   0       -2.9   value_3       44.0        T3\n3  10      -10.1   value_2        NaN       NaN\n4   9      -20.4   value_1       55.0        T4",
      "text/html": "<div>\n<style scoped>\n    .dataframe tbody tr th:only-of-type {\n        vertical-align: middle;\n    }\n\n    .dataframe tbody tr th {\n        vertical-align: top;\n    }\n\n    .dataframe thead th {\n        text-align: right;\n    }\n</style>\n<table border=\"1\" class=\"dataframe\">\n  <thead>\n    <tr style=\"text-align: right;\">\n      <th></th>\n      <th>x</th>\n      <th>column2_x</th>\n      <th>column3_x</th>\n      <th>column2_y</th>\n      <th>column3_y</th>\n    </tr>\n  </thead>\n  <tbody>\n    <tr>\n      <th>0</th>\n      <td>1</td>\n      <td>-1.3</td>\n      <td>value_1</td>\n      <td>123.0</td>\n      <td>T1</td>\n    </tr>\n    <tr>\n      <th>1</th>\n      <td>4</td>\n      <td>-1.4</td>\n      <td>value_2</td>\n      <td>23.0</td>\n      <td>T2</td>\n    </tr>\n    <tr>\n      <th>2</th>\n      <td>0</td>\n      <td>-2.9</td>\n      <td>value_3</td>\n      <td>44.0</td>\n      <td>T3</td>\n    </tr>\n    <tr>\n      <th>3</th>\n      <td>10</td>\n      <td>-10.1</td>\n      <td>value_2</td>\n      <td>NaN</td>\n      <td>NaN</td>\n    </tr>\n    <tr>\n      <th>4</th>\n      <td>9</td>\n      <td>-20.4</td>\n      <td>value_1</td>\n      <td>55.0</td>\n      <td>T4</td>\n    </tr>\n  </tbody>\n</table>\n</div>"
     },
     "execution_count": 48,
     "metadata": {},
     "output_type": "execute_result"
    }
   ],
   "source": [
    "import pandas as pd\n",
    "df = pd.DataFrame({\n",
    "    \"x\": [1, 4, 0, 10, 9],\n",
    "    \"column2\": [-1.3, -1.4, -2.9, -10.1, -20.4],\n",
    "    \"column3\": [\"value_1\", \"value_2\", \"value_3\", \"value_2\", \"value_1\"],\n",
    "})\n",
    "\n",
    "df2 = pd.DataFrame({\n",
    "    \"x\": [1, 4, 0, 9],\n",
    "    \"column2\": [123, 23, 44, 55],\n",
    "    \"column3\": [\"T1\", \"T2\", \"T3\", \"T4\"],\n",
    "})\n",
    "\n",
    "merged_df = pd.merge(df, df2, on='x', how='left')\n",
    "merged_df"
   ]
  },
  {
   "cell_type": "code",
   "execution_count": null,
   "outputs": [],
   "source": [
    "import os\n",
    "import csv\n",
    "from datetime import datetime\n",
    "import pandas as pd\n",
    "import re\n",
    "\n",
    "# Directory path containing XML files\n",
    "directory1 = '/Users/TDCM00094/pythonProject/pythonProject1/OUTPUT/Tcbloombergpub-OUTPUT-With-DES-20240228.csv'\n",
    "directory2 = '/Users/TDCM00094/pythonProject/pythonProject1/OUTPUT/Tcreuterspub-OUTPUT-With-DES-20240228.csv'\n",
    "\n",
    "#df5 = pd.read_csv(directory1,dtype=str )\n",
    "df6 = pd.read_csv(directory2,dtype=str,encoding='latin1')\n",
    "df6"
   ],
   "metadata": {
    "collapsed": false
   }
  },
  {
   "cell_type": "code",
   "execution_count": 1,
   "outputs": [
    {
     "ename": "AttributeError",
     "evalue": "module 'datetime' has no attribute 'now'",
     "output_type": "error",
     "traceback": [
      "\u001B[1;31m---------------------------------------------------------------------------\u001B[0m",
      "\u001B[1;31mAttributeError\u001B[0m                            Traceback (most recent call last)",
      "Cell \u001B[1;32mIn[1], line 5\u001B[0m\n\u001B[0;32m      2\u001B[0m \u001B[38;5;28;01mimport\u001B[39;00m \u001B[38;5;21;01mdatetime\u001B[39;00m\n\u001B[0;32m      4\u001B[0m \u001B[38;5;66;03m#curtime = time.localtime(time.time())\u001B[39;00m\n\u001B[1;32m----> 5\u001B[0m time_str \u001B[38;5;241m=\u001B[39m \u001B[43mdatetime\u001B[49m\u001B[38;5;241;43m.\u001B[39;49m\u001B[43mnow\u001B[49m()\u001B[38;5;241m.\u001B[39mstrftime(\u001B[38;5;124m\"\u001B[39m\u001B[38;5;124m%\u001B[39m\u001B[38;5;124mY\u001B[39m\u001B[38;5;124m%\u001B[39m\u001B[38;5;124mm\u001B[39m\u001B[38;5;132;01m%d\u001B[39;00m\u001B[38;5;124m\"\u001B[39m)\n\u001B[0;32m      6\u001B[0m time_str\n",
      "\u001B[1;31mAttributeError\u001B[0m: module 'datetime' has no attribute 'now'"
     ]
    }
   ],
   "source": [
    "#Display Current-time\n",
    "import datetime\n",
    "\n",
    "#curtime = time.localtime(time.time())\n",
    "time_str = datetime.now().strftime(\"%Y%m%d\")\n",
    "time_str"
   ],
   "metadata": {
    "collapsed": false,
    "ExecuteTime": {
     "start_time": "2024-05-17T12:46:12.693195Z",
     "end_time": "2024-05-17T12:46:12.698531Z"
    }
   }
  },
  {
   "cell_type": "code",
   "execution_count": 6,
   "outputs": [
    {
     "data": {
      "text/plain": "[1, 2, [3, 5, 6], 4]"
     },
     "execution_count": 6,
     "metadata": {},
     "output_type": "execute_result"
    }
   ],
   "source": [
    "from copy import copy, deepcopy\n",
    "list_1 = [1, 2, [3, 5], 4]\n",
    "list_2 = copy(list_1)\n",
    "list_2[3] = 7\n",
    "list_2[2].append(6)\n",
    "\n",
    "list_1\n"
   ],
   "metadata": {
    "collapsed": false,
    "ExecuteTime": {
     "start_time": "2024-05-18T17:34:03.081129Z",
     "end_time": "2024-05-18T17:34:03.086560Z"
    }
   }
  },
  {
   "cell_type": "code",
   "execution_count": 9,
   "outputs": [
    {
     "ename": "SyntaxError",
     "evalue": "Missing parentheses in call to 'print'. Did you mean print(...)? (3460510916.py, line 6)",
     "output_type": "error",
     "traceback": [
      "\u001B[1;36m  Cell \u001B[1;32mIn[9], line 6\u001B[1;36m\u001B[0m\n\u001B[1;33m    print i       # output => 0 1 2 3 4 5 6 7 8 9\u001B[0m\n\u001B[1;37m    ^\u001B[0m\n\u001B[1;31mSyntaxError\u001B[0m\u001B[1;31m:\u001B[0m Missing parentheses in call to 'print'. Did you mean print(...)?\n"
     ]
    }
   ],
   "source": [
    "list_3 = deepcopy(list_1)\n",
    "list_3[3] = 8\n",
    "list_3[2].append(7)\n",
    "4\n",
    "for i in xrange(10):    # numbers from o to 9\n",
    "    print i       # output => 0 1 2 3 4 5 6 7 8 9\n",
    "for i in xrange(1,10):    # numbers from 1 to 9\n",
    "    print i       # output => 1 2 3 4 5 6 7 8 9\n",
    "for i in xrange(1, 10, 2):    # skip by two for next\n",
    "    print i       # output => 1 3 5 7 9"
   ],
   "metadata": {
    "collapsed": false,
    "ExecuteTime": {
     "start_time": "2024-05-18T17:34:29.944901Z",
     "end_time": "2024-05-18T17:34:29.948251Z"
    }
   }
  },
  {
   "cell_type": "code",
   "execution_count": null,
   "outputs": [],
   "source": [
    "3. How will you combine different pandas dataframes?\n",
    "df1.append(df2)\n",
    "pd.concat([df1, df2])\n",
    "df1.join(df2)\n",
    "\n",
    "5. How will you identify and deal with missing values in a dataframe?\n",
    "missing_data_count=df.isnull().sum()\n",
    "\n",
    "df[‘column_name’].fillna(0)\n",
    "\n",
    "df[‘column_name’] = df[‘column_name’].fillna((df[‘column_name’].mean()))"
   ],
   "metadata": {
    "collapsed": false
   }
  },
  {
   "cell_type": "code",
   "execution_count": 13,
   "outputs": [
    {
     "name": "stdout",
     "output_type": "stream",
     "text": [
      "3\n",
      "8\n",
      "2\n",
      "1\n"
     ]
    }
   ],
   "source": [
    "#Write python function which takes a variable number of arguments.\n",
    "def func(*a):\n",
    "    for i in a:\n",
    "        print(i)\n",
    "func(3,8,2,1)"
   ],
   "metadata": {
    "collapsed": false,
    "ExecuteTime": {
     "start_time": "2024-05-18T21:15:41.928704Z",
     "end_time": "2024-05-18T21:15:41.934728Z"
    }
   }
  },
  {
   "cell_type": "code",
   "execution_count": 20,
   "outputs": [
    {
     "data": {
      "text/plain": "False"
     },
     "execution_count": 20,
     "metadata": {},
     "output_type": "execute_result"
    }
   ],
   "source": [
    "#WAP (Write a program) which takes a sequence of numbers and check if all numbers are unique.\n",
    "def func(a):\n",
    "    if len(a) == len(set(a)):\n",
    "        return True\n",
    "    else :\n",
    "        return False;\n",
    "a = [1,2,3,3,3]\n",
    "func(a)\n",
    "\n"
   ],
   "metadata": {
    "collapsed": false,
    "ExecuteTime": {
     "start_time": "2024-05-18T21:22:53.345877Z",
     "end_time": "2024-05-18T21:22:53.350900Z"
    }
   }
  },
  {
   "cell_type": "code",
   "execution_count": 33,
   "outputs": [
    {
     "name": "stdout",
     "output_type": "stream",
     "text": [
      "file       22337\n",
      "dataset    22337\n",
      "record     22337\n",
      "field      22337\n",
      "dtype: int64\n"
     ]
    }
   ],
   "source": [
    "import pandas as pd\n",
    "\n",
    "dir = '/Users/TDCM00094/Downloads/string_value.txt'\n",
    "\n",
    "df = pd.read_csv(dir,dtype=str,encoding='UTF-8')\n",
    "\n",
    "a = df.count()\n",
    "print(a)"
   ],
   "metadata": {
    "collapsed": false,
    "ExecuteTime": {
     "start_time": "2024-05-18T21:29:17.740517Z",
     "end_time": "2024-05-18T21:29:17.796199Z"
    }
   }
  },
  {
   "cell_type": "code",
   "execution_count": 3,
   "outputs": [
    {
     "name": "stdout",
     "output_type": "stream",
     "text": [
      "1235435.549\n"
     ]
    }
   ],
   "source": [
    "number ='1235435.549'\n",
    "a=decimal.Decimal(number)\n",
    "type(a)\n",
    "print(a)\n",
    "\n"
   ],
   "metadata": {
    "collapsed": false,
    "ExecuteTime": {
     "start_time": "2024-05-19T20:47:48.025401Z",
     "end_time": "2024-05-19T20:47:48.042407Z"
    }
   }
  },
  {
   "cell_type": "code",
   "execution_count": 6,
   "outputs": [
    {
     "name": "stdout",
     "output_type": "stream",
     "text": [
      "123\n"
     ]
    }
   ],
   "source": [
    "number = [1,2,3,45,56,78,2,56,7,89,99,123,54,23,45,1]\n",
    "max= number[0]\n",
    "for num in number:\n",
    "    if max < num:\n",
    "        max= num\n",
    "print(max)"
   ],
   "metadata": {
    "collapsed": false,
    "ExecuteTime": {
     "start_time": "2024-05-19T20:51:11.263101Z",
     "end_time": "2024-05-19T20:51:11.267614Z"
    }
   }
  },
  {
   "cell_type": "code",
   "execution_count": 12,
   "outputs": [
    {
     "name": "stdout",
     "output_type": "stream",
     "text": [
      "[56, 7, 78, 2, 56, 3, 123, 99, 23, 2, 1, 45, 89, 45, 54, 1]\n"
     ]
    }
   ],
   "source": [
    "from random import shuffle\n",
    "number = [1,2,3,45,56,78,2,56,7,89,99,123,54,23,45,1]\n",
    "shuffle(number)\n",
    "print(number)\n"
   ],
   "metadata": {
    "collapsed": false,
    "ExecuteTime": {
     "start_time": "2024-05-19T20:53:52.377241Z",
     "end_time": "2024-05-19T20:53:52.379853Z"
    }
   }
  },
  {
   "cell_type": "code",
   "execution_count": 14,
   "outputs": [
    {
     "name": "stdout",
     "output_type": "stream",
     "text": [
      "12\n"
     ]
    },
    {
     "name": "stderr",
     "output_type": "stream",
     "text": [
      "<>:5: SyntaxWarning: invalid escape sequence '\\w'\n",
      "<>:5: SyntaxWarning: invalid escape sequence '\\w'\n",
      "C:\\Users\\TDCM00094\\AppData\\Local\\Temp\\ipykernel_18324\\2482244296.py:5: SyntaxWarning: invalid escape sequence '\\w'\n",
      "  count = re.sub('[\\w]+', '', str)\n"
     ]
    }
   ],
   "source": [
    "#Counting Special Characters in a String\n",
    "import re\n",
    "str = \"!344&$%$^@-0989cvsesf3421()()\"\n",
    "count = re.sub('[\\w]+', '', str)\n",
    "print(len(count))\n",
    "\n",
    "\n",
    "#Counting Digits, Letters, and Spaces in a String"
   ],
   "metadata": {
    "collapsed": false,
    "ExecuteTime": {
     "start_time": "2024-05-19T20:56:21.176358Z",
     "end_time": "2024-05-19T20:56:21.181366Z"
    }
   }
  },
  {
   "cell_type": "code",
   "execution_count": 19,
   "outputs": [
    {
     "name": "stdout",
     "output_type": "stream",
     "text": [
      "16\n",
      "26\n",
      "5\n"
     ]
    }
   ],
   "source": [
    "#Counting Digits, Letters, and Spaces in a String\n",
    "name = 'Python is 142394 %%465fcx5gnfgh drgserty44y5 4r56'\n",
    "\n",
    "digitCount = re.sub(\"[^0-9]\", \"\", name)\n",
    "letterCount = re.sub(\"[^a-zA-Z]\", \"\", name)\n",
    "spaceCount = re.findall(\"[ \\n]\", name)\n",
    "\n",
    "print(len(digitCount))\n",
    "print(len(letterCount))\n",
    "print(len(spaceCount))"
   ],
   "metadata": {
    "collapsed": false,
    "ExecuteTime": {
     "start_time": "2024-05-19T20:59:17.557701Z",
     "end_time": "2024-05-19T20:59:17.560223Z"
    }
   }
  },
  {
   "cell_type": "code",
   "execution_count": 22,
   "outputs": [
    {
     "data": {
      "text/plain": "'PYTHON'"
     },
     "execution_count": 22,
     "metadata": {},
     "output_type": "execute_result"
    }
   ],
   "source": [
    "lst = [\"P\", \"Y\", \"T\", \"H\", \"O\", \"N\"]\n",
    "\n",
    "str= ''.join(lst)\n",
    "str"
   ],
   "metadata": {
    "collapsed": false,
    "ExecuteTime": {
     "start_time": "2024-05-19T21:01:04.065775Z",
     "end_time": "2024-05-19T21:01:04.071188Z"
    }
   }
  },
  {
   "cell_type": "code",
   "execution_count": 23,
   "outputs": [
    {
     "name": "stdout",
     "output_type": "stream",
     "text": [
      "[   1    2    4    5    6 7678    8]\n"
     ]
    }
   ],
   "source": [
    "import numpy as np\n",
    "arr = np.array([1,2,4,5,6,7678,8])\n",
    "print(arr)"
   ],
   "metadata": {
    "collapsed": false,
    "ExecuteTime": {
     "start_time": "2024-05-19T21:10:49.136338Z",
     "end_time": "2024-05-19T21:10:49.145411Z"
    }
   }
  },
  {
   "cell_type": "code",
   "execution_count": 25,
   "outputs": [
    {
     "data": {
      "text/plain": "'lunchka@n w@ngprasert'"
     },
     "execution_count": 25,
     "metadata": {},
     "output_type": "execute_result"
    }
   ],
   "source": [
    "str = \"lunchkaon wongprasert\"\n",
    "chang = \"o\"\n",
    "str.replace(chang,\"@\")"
   ],
   "metadata": {
    "collapsed": false,
    "ExecuteTime": {
     "start_time": "2024-05-19T21:13:26.257049Z",
     "end_time": "2024-05-19T21:13:26.262203Z"
    }
   }
  },
  {
   "cell_type": "code",
   "execution_count": null,
   "outputs": [],
   "source": [
    "import datetime\n",
    "today - datetime.date.today()\n"
   ],
   "metadata": {
    "collapsed": false
   }
  },
  {
   "cell_type": "code",
   "execution_count": 30,
   "outputs": [
    {
     "data": {
      "text/plain": "[1, 2, 3, 'b', 'c', 4]"
     },
     "execution_count": 30,
     "metadata": {},
     "output_type": "execute_result"
    }
   ],
   "source": [
    "my_list = [1, 2, 3, 'a', 'b', 'c']\n",
    "my_list.append(4)     # Adds 4 to the end of the list\n",
    "my_list.remove('a')  # Removes the element 'a'\n",
    "my_list\n"
   ],
   "metadata": {
    "collapsed": false,
    "ExecuteTime": {
     "start_time": "2024-05-19T21:24:58.085316Z",
     "end_time": "2024-05-19T21:24:58.090178Z"
    }
   }
  },
  {
   "cell_type": "code",
   "execution_count": 31,
   "outputs": [
    {
     "name": "stdout",
     "output_type": "stream",
     "text": [
      "[0, 1, 4, 9, 16, 25, 36, 49, 64, 81]\n"
     ]
    }
   ],
   "source": [
    "#List Comprehension\n",
    "sq=[]\n",
    "for i in range(10):\n",
    "    sq.append(i**2)\n",
    "print(sq)\n"
   ],
   "metadata": {
    "collapsed": false,
    "ExecuteTime": {
     "start_time": "2024-05-19T21:26:54.745533Z",
     "end_time": "2024-05-19T21:26:54.747054Z"
    }
   }
  },
  {
   "cell_type": "code",
   "execution_count": 35,
   "outputs": [
    {
     "data": {
      "text/plain": "[0, 1, 4, 9, 16, 25, 36, 49, 64, 81]"
     },
     "execution_count": 35,
     "metadata": {},
     "output_type": "execute_result"
    }
   ],
   "source": [
    "sq=[]\n",
    "sq = [i**2 for i in range(10)]\n",
    "sq"
   ],
   "metadata": {
    "collapsed": false,
    "ExecuteTime": {
     "start_time": "2024-05-19T21:27:56.891112Z",
     "end_time": "2024-05-19T21:27:56.897378Z"
    }
   }
  },
  {
   "cell_type": "code",
   "execution_count": 36,
   "outputs": [
    {
     "name": "stdout",
     "output_type": "stream",
     "text": [
      "Index: 0  Value: a\n",
      "Index: 1  Value: b\n",
      "Index: 2  Value: c\n",
      "Index: 3  Value: d\n",
      "Index: 4  Value: e\n"
     ]
    }
   ],
   "source": [
    "lista = ['a','b','c','d','e']\n",
    "count = 0\n",
    "for l in lista:\n",
    "    print('Index:', count,' Value:', l)\n",
    "    count+=1"
   ],
   "metadata": {
    "collapsed": false,
    "ExecuteTime": {
     "start_time": "2024-05-19T21:29:27.060640Z",
     "end_time": "2024-05-19T21:29:27.064453Z"
    }
   }
  },
  {
   "cell_type": "code",
   "execution_count": 38,
   "outputs": [
    {
     "name": "stdout",
     "output_type": "stream",
     "text": [
      "Index :  0 Value :  a\n",
      "Index :  1 Value :  b\n",
      "Index :  2 Value :  c\n",
      "Index :  3 Value :  d\n",
      "Index :  4 Value :  e\n"
     ]
    }
   ],
   "source": [
    "for count, l in enumerate(lista):\n",
    "    print('Index : ',count, 'Value : ', l)"
   ],
   "metadata": {
    "collapsed": false,
    "ExecuteTime": {
     "start_time": "2024-05-19T21:30:46.092016Z",
     "end_time": "2024-05-19T21:30:46.102830Z"
    }
   }
  },
  {
   "cell_type": "code",
   "execution_count": 65,
   "outputs": [
    {
     "data": {
      "text/plain": "'HloM red'"
     },
     "execution_count": 65,
     "metadata": {},
     "output_type": "execute_result"
    }
   ],
   "source": [
    "#Remember, slice notation extracts a portion without modifying the original sequence\n",
    "list = [12,23,51,64,1,3,5645,767,8,9]\n",
    "str = \"Hello My Friend!\"\n",
    "# Extracting Sublists\n",
    "sl= list[2:]\n",
    "sl\n",
    "# Reversing a Sequence:\n",
    "list[::-1]\n",
    "\n",
    "\n",
    "# Getting Every Nth Element:\n",
    "re = str[::2]\n",
    "re"
   ],
   "metadata": {
    "collapsed": false,
    "ExecuteTime": {
     "start_time": "2024-05-20T20:16:45.489234Z",
     "end_time": "2024-05-20T20:16:45.667911Z"
    }
   }
  },
  {
   "cell_type": "code",
   "execution_count": 72,
   "outputs": [
    {
     "data": {
      "text/plain": "[24, 46, 102, 128, 2, 6, 11290, 1534, 16, 18]"
     },
     "execution_count": 72,
     "metadata": {},
     "output_type": "execute_result"
    }
   ],
   "source": [
    "#list Comprehensions:\n",
    "squared_numbers = [i*2 for i in list]\n",
    "squared_numbers\n"
   ],
   "metadata": {
    "collapsed": false,
    "ExecuteTime": {
     "start_time": "2024-05-20T20:41:56.293164Z",
     "end_time": "2024-05-20T20:41:56.373025Z"
    }
   }
  },
  {
   "cell_type": "code",
   "execution_count": 3,
   "outputs": [
    {
     "ename": "SyntaxError",
     "evalue": "invalid syntax (2594666493.py, line 2)",
     "output_type": "error",
     "traceback": [
      "\u001B[1;36m  Cell \u001B[1;32mIn[3], line 2\u001B[1;36m\u001B[0m\n\u001B[1;33m    sort_by_age = sorted(list, key=lambda x: x =9)\u001B[0m\n\u001B[1;37m                                               ^\u001B[0m\n\u001B[1;31mSyntaxError\u001B[0m\u001B[1;31m:\u001B[0m invalid syntax\n"
     ]
    }
   ],
   "source": [
    "#Lambda Functions\n",
    "sort_by_age = sorted(list, key=lambda x: x =56.*[\"age\"])\n",
    "sort_by_age"
   ],
   "metadata": {
    "collapsed": false
   }
  },
  {
   "cell_type": "code",
   "execution_count": null,
   "outputs": [],
   "source": [],
   "metadata": {
    "collapsed": false
   }
  },
  {
   "cell_type": "code",
   "execution_count": null,
   "outputs": [],
   "source": [
    "import pandas as pd\n",
    "\n",
    "path1 = \"/Users/TDCM00094/Downloads/rbam.csv\"\n",
    "path2 = \"/Users/TDCM00094/Downloads/aud.csv\"\n",
    "\n",
    "df= pd.read_csv(path2,encoding='latin1')\n",
    "temp=df[['sgt_time','sr','updatedfield','bid','ask','mid','creator','dataset','field-set']]\n",
    "temp\n",
    "\n",
    "temp['sgt_time'] = pd.to_datetime(temp['sgt_time'], format='%Y-%m-%d %H:%M:%S.%f %Z')\n",
    "\n",
    "start = pd.Timestamp('2024-04-11 14:23:00',  tz='Asia/Singapore')\n",
    "end = pd.Timestamp('2024-04-11 15:00:00',tz='Asia/Singapore')\n",
    "\n",
    "filtered_df = temp[(temp['sgt_time'] >= start) & (temp['sgt_time'] <= end ) ]\n",
    "\n",
    "filtered_df\n"
   ],
   "metadata": {
    "collapsed": false
   }
  },
  {
   "cell_type": "code",
   "execution_count": null,
   "outputs": [],
   "source": [],
   "metadata": {
    "collapsed": false
   }
  }
 ],
 "metadata": {
  "kernelspec": {
   "display_name": "Python 3",
   "language": "python",
   "name": "python3"
  },
  "language_info": {
   "codemirror_mode": {
    "name": "ipython",
    "version": 2
   },
   "file_extension": ".py",
   "mimetype": "text/x-python",
   "name": "python",
   "nbconvert_exporter": "python",
   "pygments_lexer": "ipython2",
   "version": "2.7.6"
  }
 },
 "nbformat": 4,
 "nbformat_minor": 0
}
