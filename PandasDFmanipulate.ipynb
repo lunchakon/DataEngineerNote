{
 "cells": [
  {
   "cell_type": "code",
   "execution_count": 19,
   "metadata": {
    "collapsed": true,
    "ExecuteTime": {
     "start_time": "2023-07-20T10:05:23.210924Z",
     "end_time": "2023-07-20T10:05:23.258445Z"
    }
   },
   "outputs": [
    {
     "name": "stdout",
     "output_type": "stream",
     "text": [
      "\"apac\\lucky.alcuaz\"\n",
      "\"apac\\marcel.ferreria\"\n",
      "\"apac\\orlando.bisquera\"\n",
      "\"apac\\reese.gaerlan\"\n",
      "\"apac\\valerie.hugo\"\n",
      "\"apac\\victor.bagay\"\n",
      "\"apac\\victorio  .gomez\"\n",
      "\"apac\\angus.hopkins\"\n",
      "\"apac\\chrissy.vanderscheer\"\n",
      "\"apac\\chrissy.van.der.scheer\"\n",
      "\"apac\\flick.mueller\"\n",
      "\"apac\\joe.kirtley\"\n",
      "\"apac\\kenny.campbell\"\n",
      "\"apac\\lyndon.smith\"\n",
      "\"apac\\sam.cox\"\n",
      "\"apac\\sam.kain\"\n",
      "\"apac\\sam.twigg\"\n",
      "\"apac\\sam.yates\"\n",
      "\"apac\\charlie.yc.yoon\"\n",
      "\"apac\\danny.ss.uhm\"\n",
      "\"apac\\eunyup.park\"\n",
      "\"apac\\hokeun.phie\"\n",
      "\"apac\\hyojeong.song\"\n",
      "\"apac\\hyunjae.nah\"\n",
      "\"apac\\hyunsu.kim\"\n",
      "\"apac\\jaewon.shim\"\n",
      "\"apac\\jaewson.shim\"\n",
      "\"apac\\jasmine.ar.lim\"\n",
      "\"apac\\jinkyung.kim\"\n",
      "\"apac\\kwangjae.yoo\"\n",
      "\"apac\\yeonsoo.woo\"\n",
      "\"apac\\yongsuk.jo\"\n"
     ]
    },
    {
     "data": {
      "text/plain": "       group_name                                            Columns   \n0      MANILA_PHP  [{\"dataset\": \"PH_CONTRIB\", \"records\": [\".*\"]},...  \\\n1        NZD_TCSS  [{\"dataset\": \"HK_INTERNAL\", \"records\": [\"NZ_CO...   \n2  SEOUL_KRW_TCSS  [{\"dataset\": \"HK_INTERNAL\", \"records\": [\"KR_CO...   \n\n                                              member  \n0  {\"apac\\lucky.alcuaz\",\"apac\\marcel.ferreria\",\"a...  \n1  {\"apac\\angus.hopkins\",\"apac\\chrissy.vandersche...  \n2  {\"apac\\charlie.yc.yoon\",\"apac\\danny.ss.uhm\",\"a...  ",
      "text/html": "<div>\n<style scoped>\n    .dataframe tbody tr th:only-of-type {\n        vertical-align: middle;\n    }\n\n    .dataframe tbody tr th {\n        vertical-align: top;\n    }\n\n    .dataframe thead th {\n        text-align: right;\n    }\n</style>\n<table border=\"1\" class=\"dataframe\">\n  <thead>\n    <tr style=\"text-align: right;\">\n      <th></th>\n      <th>group_name</th>\n      <th>Columns</th>\n      <th>member</th>\n    </tr>\n  </thead>\n  <tbody>\n    <tr>\n      <th>0</th>\n      <td>MANILA_PHP</td>\n      <td>[{\"dataset\": \"PH_CONTRIB\", \"records\": [\".*\"]},...</td>\n      <td>{\"apac\\lucky.alcuaz\",\"apac\\marcel.ferreria\",\"a...</td>\n    </tr>\n    <tr>\n      <th>1</th>\n      <td>NZD_TCSS</td>\n      <td>[{\"dataset\": \"HK_INTERNAL\", \"records\": [\"NZ_CO...</td>\n      <td>{\"apac\\angus.hopkins\",\"apac\\chrissy.vandersche...</td>\n    </tr>\n    <tr>\n      <th>2</th>\n      <td>SEOUL_KRW_TCSS</td>\n      <td>[{\"dataset\": \"HK_INTERNAL\", \"records\": [\"KR_CO...</td>\n      <td>{\"apac\\charlie.yc.yoon\",\"apac\\danny.ss.uhm\",\"a...</td>\n    </tr>\n  </tbody>\n</table>\n</div>"
     },
     "execution_count": 19,
     "metadata": {},
     "output_type": "execute_result"
    }
   ],
   "source": [
    "import pandas as pd\n",
    "\n",
    "df1 = pd.DataFrame(\n",
    "    {\n",
    "        \"A\": [\"A0\", \"A1\", \"A2\", \"A3\"],\n",
    "        \"B\": [\"B0\", \"B1\", \"B2\", \"B3\"],\n",
    "        \"C\": [\"C0\", \"C1\", \"C2\", \"C3\"],\n",
    "        \"D\": [\"D0\", \"D1\", \"D2\", \"D3\"],\n",
    "    },\n",
    "    index=[0, 1, 2, 3],\n",
    ")\n",
    "\n",
    "df2 = pd.DataFrame(\n",
    "    {\n",
    "        \"A\": [\"A4\", \"A5\", \"A6\", \"A7\"],\n",
    "        \"B\": [\"B4\", \"B5\", \"B6\", \"B7\"],\n",
    "        \"C\": [\"C4\", \"C5\", \"C6\", \"C7\"],\n",
    "        \"D\": [\"D4\", \"D5\", \"D6\", \"D7\"],\n",
    "    },\n",
    "    index=[4, 5, 6, 7],\n",
    ")\n",
    "\n",
    "\n",
    "df3 = pd.DataFrame(\n",
    "    {\n",
    "        \"A\": [\"A8\", \"A9\", \"A10\", \"A11\"],\n",
    "        \"B\": [\"B8\", \"B9\", \"B10\", \"B11\"],\n",
    "        \"C\": [\"C8\", \"C9\", \"C10\", \"C11\"],\n",
    "        \"D\": [\"D8\", \"D9\", \"D10\", \"D11\"],\n",
    "    },\n",
    "    index=[8, 9, 10, 11],\n",
    ")\n",
    "\n",
    "df5 = pd.DataFrame({\n",
    "                       \"group_name\" : [\"MANILA_PHP\",\n",
    "                                       \"NZD_TCSS\",\n",
    "                                       \"SEOUL_KRW_TCSS\"\n",
    "                                       ],\n",
    "                       \"Columns\" : [  \"\"\"[{\"dataset\": \"PH_CONTRIB\", \"records\": [\".*\"]}, {\"dataset\": \"QUANT1\", \"records\": [\"PHPint.*\", \"PHPINT.*\"]}]\"\"\",\n",
    "                                    \"\"\"[{\"dataset\": \"HK_INTERNAL\", \"records\": [\"NZ_CONTRIB.*\", \"NZ_INTERNAL.*\"]}]\"\"\",\n",
    "                                    \"\"\"[{\"dataset\": \"HK_INTERNAL\", \"records\": [\"KR_CONTRIB/.*\"]}, {\"dataset\": \"QUANT1\", \"records\": [\"KRWint/.*\"]}]\"\"\"\n",
    "                                    ],\n",
    "                        \"member\" : [    \"\"\"{\"apac\\\\lucky.alcuaz\",\"apac\\\\marcel.ferreria\",\"apac\\\\orlando.bisquera\",\"apac\\\\reese.gaerlan\",\"apac\\\\valerie.hugo\",\"apac\\\\victor.bagay\",\"apac\\\\victorio  .gomez\"}\"\"\",\n",
    "                                        \"\"\"{\"apac\\\\angus.hopkins\",\"apac\\\\chrissy.vanderscheer\",\"apac\\\\chrissy.van.der.scheer\",\"apac\\\\flick.mueller\",\"apac\\\\joe.kirtley\",\"apac\\\\kenny.campbell\",\"apac\\\\lyndon.smith\",\"apac\\\\sam.cox\",\"apac\\\\sam.kain\",\"apac\\\\sam.twigg\",\"apac\\\\sam.yates\"}\"\"\",\n",
    "\n",
    "                                          \"\"\"{\"apac\\\\charlie.yc.yoon\",\"apac\\\\danny.ss.uhm\",\"apac\\\\eunyup.park\",\"apac\\\\hokeun.phie\",\"apac\\\\hyojeong.song\",\"apac\\\\hyunjae.nah\",\"apac\\\\hyunsu.kim\",\"apac\\\\jaewon.shim\",\"apac\\\\jaewson.shim\",\"apac\\\\jasmine.ar.lim\",\"apac\\\\jinkyung.kim\",\"apac\\\\kwangjae.yoo\",\"apac\\\\yeonsoo.woo\",\"apac\\\\yongsuk.jo\"}\"\"\"\n",
    "                                          ],\n",
    "},\n",
    "index=[0, 1, 2],\n",
    ")\n",
    "#concat result\n",
    "# pd.concat(\n",
    "#     objs,\n",
    "#     axis=0,\n",
    "#     join=\"outer\",\n",
    "#     ignore_index=False,\n",
    "#     keys=None,\n",
    "#     levels=None,\n",
    "#     names=None,\n",
    "#     verify_integrity=False,\n",
    "#     copy=True,\n",
    "# https://pandas.pydata.org/docs/user_guide/merging.html\n",
    "# )\n",
    "result=pd.concat([df1,df2,df3], keys=['df1','df2','df3'])\n",
    "\n",
    "df5\n",
    "\n",
    "# Assuming you already have the DataFrame df5\n",
    "# If you don't have pandas installed, you can install it using: pip install pandas\n",
    "\n",
    "# Access the \"member\" column and split the strings using ',' to get individual members\n",
    "members = df5[\"member\"].apply(lambda x: x.strip(\"{}\").split(\",\"))\n",
    "\n",
    "# Flatten the list of lists\n",
    "flattened_members = [member for sublist in members for member in sublist]\n",
    "\n",
    "# Print the individual members\n",
    "for member in flattened_members:\n",
    "    print(member.strip())  # This will remove any leading/trailing whitespaces\n",
    "\n",
    "\n",
    "df5\n",
    "\n"
   ]
  },
  {
   "cell_type": "code",
   "execution_count": 14,
   "outputs": [
    {
     "name": "stdout",
     "output_type": "stream",
     "text": [
      "dataset : PH_CONTRIB\n",
      "records : ['.*']\n",
      "\n",
      "dataset : QUANT1\n",
      "records : ['PHPint.*', 'PHPINT.*']\n",
      "\n",
      "dataset : HK_INTERNAL\n",
      "records : ['NZ_CONTRIB.*', 'NZ_INTERNAL.*']\n",
      "\n",
      "dataset : HK_INTERNAL\n",
      "records : ['KR_CONTRIB/.*']\n",
      "\n",
      "dataset : QUANT1\n",
      "records : ['KRWint/.*']\n",
      "\n"
     ]
    },
    {
     "data": {
      "text/plain": "0    None\n1    None\n2    None\nName: Columns, dtype: object"
     },
     "execution_count": 14,
     "metadata": {},
     "output_type": "execute_result"
    }
   ],
   "source": [
    "df5\n",
    "import ast\n",
    "\n",
    "# Assuming you already have the DataFrame df5\n",
    "# If you don't have pandas installed, you can install it using: pip install pandas\n",
    "\n",
    "# Function to format and print the data inside \"Columns\" column\n",
    "def print_column_data(column_str):\n",
    "    column_data = ast.literal_eval(column_str)  # Convert the string representation of list to actual list\n",
    "    for item in column_data:\n",
    "        dataset = item[\"dataset\"]\n",
    "        records = item[\"records\"]\n",
    "        print(f\"dataset : {dataset}\")\n",
    "        print(f\"records : {records}\")\n",
    "        print()\n",
    "\n",
    "# Apply the function to each row in the DataFrame\n",
    "df5[\"Columns\"].apply(print_column_data)"
   ],
   "metadata": {
    "collapsed": false,
    "ExecuteTime": {
     "start_time": "2023-07-20T10:02:08.340292Z",
     "end_time": "2023-07-20T10:02:08.359385Z"
    }
   }
  },
  {
   "cell_type": "code",
   "execution_count": 17,
   "outputs": [
    {
     "data": {
      "text/plain": "       group_name                                       Columns_data   \n0      MANILA_PHP  dataset : PH_CONTRIB, records : ['.*'], datase...  \\\n1        NZD_TCSS  dataset : HK_INTERNAL, records : ['NZ_CONTRIB....   \n2  SEOUL_KRW_TCSS  dataset : HK_INTERNAL, records : ['KR_CONTRIB/...   \n\n                                         Member_data  \n0  \"apac\\lucky.alcuaz\", \"apac\\marcel.ferreria\", \"...  \n1  \"apac\\angus.hopkins\", \"apac\\chrissy.vandersche...  \n2  \"apac\\charlie.yc.yoon\", \"apac\\danny.ss.uhm\", \"...  ",
      "text/html": "<div>\n<style scoped>\n    .dataframe tbody tr th:only-of-type {\n        vertical-align: middle;\n    }\n\n    .dataframe tbody tr th {\n        vertical-align: top;\n    }\n\n    .dataframe thead th {\n        text-align: right;\n    }\n</style>\n<table border=\"1\" class=\"dataframe\">\n  <thead>\n    <tr style=\"text-align: right;\">\n      <th></th>\n      <th>group_name</th>\n      <th>Columns_data</th>\n      <th>Member_data</th>\n    </tr>\n  </thead>\n  <tbody>\n    <tr>\n      <th>0</th>\n      <td>MANILA_PHP</td>\n      <td>dataset : PH_CONTRIB, records : ['.*'], datase...</td>\n      <td>\"apac\\lucky.alcuaz\", \"apac\\marcel.ferreria\", \"...</td>\n    </tr>\n    <tr>\n      <th>1</th>\n      <td>NZD_TCSS</td>\n      <td>dataset : HK_INTERNAL, records : ['NZ_CONTRIB....</td>\n      <td>\"apac\\angus.hopkins\", \"apac\\chrissy.vandersche...</td>\n    </tr>\n    <tr>\n      <th>2</th>\n      <td>SEOUL_KRW_TCSS</td>\n      <td>dataset : HK_INTERNAL, records : ['KR_CONTRIB/...</td>\n      <td>\"apac\\charlie.yc.yoon\", \"apac\\danny.ss.uhm\", \"...</td>\n    </tr>\n  </tbody>\n</table>\n</div>"
     },
     "execution_count": 17,
     "metadata": {},
     "output_type": "execute_result"
    }
   ],
   "source": [
    "import pandas as pd\n",
    "import ast\n",
    "\n",
    "# Assuming you already have the DataFrame df5\n",
    "# If you don't have pandas installed, you can install it using: pip install pandas\n",
    "\n",
    "# Function to extract and format the data inside \"Columns\" column\n",
    "def extract_column_data(column_str):\n",
    "    column_data = ast.literal_eval(column_str)  # Convert the string representation of list to actual list\n",
    "    result = []\n",
    "    for item in column_data:\n",
    "        dataset = item[\"dataset\"]\n",
    "        records = item[\"records\"]\n",
    "        result.append(f\"dataset : {dataset}, records : {records}\")\n",
    "    return \", \".join(result)\n",
    "\n",
    "# Function to extract the data inside the \"member\" column\n",
    "def extract_member_data(member_str):\n",
    "    members = member_str.strip(\"{}\").split(\",\")\n",
    "    return \", \".join([member.strip() for member in members])\n",
    "\n",
    "# Create a list to store the dictionaries of extracted data\n",
    "data_list = []\n",
    "\n",
    "# Iterate through each row in the original DataFrame df5\n",
    "for index, row in df5.iterrows():\n",
    "    group_name = row[\"group_name\"]\n",
    "    columns_data = extract_column_data(row[\"Columns\"])\n",
    "    member_data = extract_member_data(row[\"member\"])\n",
    "\n",
    "    # Append the extracted data to the list as a dictionary\n",
    "    data_list.append({\"group_name\": group_name, \"Columns_data\": columns_data, \"Member_data\": member_data})\n",
    "\n",
    "# Create the new DataFrame from the list of dictionaries\n",
    "new_data = pd.DataFrame(data_list)\n",
    "\n",
    "new_data"
   ],
   "metadata": {
    "collapsed": false,
    "ExecuteTime": {
     "start_time": "2023-07-20T10:04:14.590995Z",
     "end_time": "2023-07-20T10:04:14.615948Z"
    }
   }
  },
  {
   "cell_type": "code",
   "execution_count": 3,
   "outputs": [
    {
     "data": {
      "text/plain": "    A   B   C   D\n4  A4  B4  C4  D4\n5  A5  B5  C5  D5\n6  A6  B6  C6  D6\n7  A7  B7  C7  D7",
      "text/html": "<div>\n<style scoped>\n    .dataframe tbody tr th:only-of-type {\n        vertical-align: middle;\n    }\n\n    .dataframe tbody tr th {\n        vertical-align: top;\n    }\n\n    .dataframe thead th {\n        text-align: right;\n    }\n</style>\n<table border=\"1\" class=\"dataframe\">\n  <thead>\n    <tr style=\"text-align: right;\">\n      <th></th>\n      <th>A</th>\n      <th>B</th>\n      <th>C</th>\n      <th>D</th>\n    </tr>\n  </thead>\n  <tbody>\n    <tr>\n      <th>4</th>\n      <td>A4</td>\n      <td>B4</td>\n      <td>C4</td>\n      <td>D4</td>\n    </tr>\n    <tr>\n      <th>5</th>\n      <td>A5</td>\n      <td>B5</td>\n      <td>C5</td>\n      <td>D5</td>\n    </tr>\n    <tr>\n      <th>6</th>\n      <td>A6</td>\n      <td>B6</td>\n      <td>C6</td>\n      <td>D6</td>\n    </tr>\n    <tr>\n      <th>7</th>\n      <td>A7</td>\n      <td>B7</td>\n      <td>C7</td>\n      <td>D7</td>\n    </tr>\n  </tbody>\n</table>\n</div>"
     },
     "execution_count": 3,
     "metadata": {},
     "output_type": "execute_result"
    }
   ],
   "source": [
    "result.loc['df2']"
   ],
   "metadata": {
    "collapsed": false,
    "ExecuteTime": {
     "start_time": "2023-05-23T00:35:42.928584Z",
     "end_time": "2023-05-23T00:35:42.955547Z"
    }
   }
  },
  {
   "cell_type": "code",
   "execution_count": 5,
   "outputs": [
    {
     "data": {
      "text/plain": "     A    B    C    D    B    D    F\n0   A0   B0   C0   D0  NaN  NaN  NaN\n1   A1   B1   C1   D1  NaN  NaN  NaN\n2   A2   B2   C2   D2   B2   D2   F2\n3   A3   B3   C3   D3   B3   D3   F3\n6  NaN  NaN  NaN  NaN   B6   D6   F6\n7  NaN  NaN  NaN  NaN   B7   D7   F7",
      "text/html": "<div>\n<style scoped>\n    .dataframe tbody tr th:only-of-type {\n        vertical-align: middle;\n    }\n\n    .dataframe tbody tr th {\n        vertical-align: top;\n    }\n\n    .dataframe thead th {\n        text-align: right;\n    }\n</style>\n<table border=\"1\" class=\"dataframe\">\n  <thead>\n    <tr style=\"text-align: right;\">\n      <th></th>\n      <th>A</th>\n      <th>B</th>\n      <th>C</th>\n      <th>D</th>\n      <th>B</th>\n      <th>D</th>\n      <th>F</th>\n    </tr>\n  </thead>\n  <tbody>\n    <tr>\n      <th>0</th>\n      <td>A0</td>\n      <td>B0</td>\n      <td>C0</td>\n      <td>D0</td>\n      <td>NaN</td>\n      <td>NaN</td>\n      <td>NaN</td>\n    </tr>\n    <tr>\n      <th>1</th>\n      <td>A1</td>\n      <td>B1</td>\n      <td>C1</td>\n      <td>D1</td>\n      <td>NaN</td>\n      <td>NaN</td>\n      <td>NaN</td>\n    </tr>\n    <tr>\n      <th>2</th>\n      <td>A2</td>\n      <td>B2</td>\n      <td>C2</td>\n      <td>D2</td>\n      <td>B2</td>\n      <td>D2</td>\n      <td>F2</td>\n    </tr>\n    <tr>\n      <th>3</th>\n      <td>A3</td>\n      <td>B3</td>\n      <td>C3</td>\n      <td>D3</td>\n      <td>B3</td>\n      <td>D3</td>\n      <td>F3</td>\n    </tr>\n    <tr>\n      <th>6</th>\n      <td>NaN</td>\n      <td>NaN</td>\n      <td>NaN</td>\n      <td>NaN</td>\n      <td>B6</td>\n      <td>D6</td>\n      <td>F6</td>\n    </tr>\n    <tr>\n      <th>7</th>\n      <td>NaN</td>\n      <td>NaN</td>\n      <td>NaN</td>\n      <td>NaN</td>\n      <td>B7</td>\n      <td>D7</td>\n      <td>F7</td>\n    </tr>\n  </tbody>\n</table>\n</div>"
     },
     "execution_count": 5,
     "metadata": {},
     "output_type": "execute_result"
    }
   ],
   "source": [
    "# frames = [ process_your_file(f) for f in files ]\n",
    "# result = pd.concat(frames)\n",
    "\n",
    "df4 = pd.DataFrame(\n",
    "    {\n",
    "        \"B\": [\"B2\", \"B3\", \"B6\", \"B7\"],\n",
    "        \"D\": [\"D2\", \"D3\", \"D6\", \"D7\"],\n",
    "        \"F\": [\"F2\", \"F3\", \"F6\", \"F7\"],\n",
    "    },\n",
    "    index=[2, 3, 6, 7],\n",
    ")\n",
    "\n",
    "\n",
    "\n",
    "\n",
    "})\n",
    "\n",
    "\n",
    "result=pd.concat([df1,df4], axis=1)\n",
    "result\n",
    "# same result with Join='inner'"
   ],
   "metadata": {
    "collapsed": false,
    "ExecuteTime": {
     "start_time": "2023-05-23T00:36:05.364906Z",
     "end_time": "2023-05-23T00:36:05.405473Z"
    }
   }
  },
  {
   "cell_type": "code",
   "execution_count": 27,
   "outputs": [
    {
     "data": {
      "text/plain": "    A   B   C   D   B   D   F\n2  A2  B2  C2  D2  B2  D2  F2\n3  A3  B3  C3  D3  B3  D3  F3",
      "text/html": "<div>\n<style scoped>\n    .dataframe tbody tr th:only-of-type {\n        vertical-align: middle;\n    }\n\n    .dataframe tbody tr th {\n        vertical-align: top;\n    }\n\n    .dataframe thead th {\n        text-align: right;\n    }\n</style>\n<table border=\"1\" class=\"dataframe\">\n  <thead>\n    <tr style=\"text-align: right;\">\n      <th></th>\n      <th>A</th>\n      <th>B</th>\n      <th>C</th>\n      <th>D</th>\n      <th>B</th>\n      <th>D</th>\n      <th>F</th>\n    </tr>\n  </thead>\n  <tbody>\n    <tr>\n      <th>2</th>\n      <td>A2</td>\n      <td>B2</td>\n      <td>C2</td>\n      <td>D2</td>\n      <td>B2</td>\n      <td>D2</td>\n      <td>F2</td>\n    </tr>\n    <tr>\n      <th>3</th>\n      <td>A3</td>\n      <td>B3</td>\n      <td>C3</td>\n      <td>D3</td>\n      <td>B3</td>\n      <td>D3</td>\n      <td>F3</td>\n    </tr>\n  </tbody>\n</table>\n</div>"
     },
     "execution_count": 27,
     "metadata": {},
     "output_type": "execute_result"
    }
   ],
   "source": [
    "result = pd.concat([df1, df4], axis=1, join=\"inner\")\n",
    "result"
   ],
   "metadata": {
    "collapsed": false,
    "ExecuteTime": {
     "start_time": "2023-05-11T11:40:15.527364Z",
     "end_time": "2023-05-11T11:40:15.547911Z"
    }
   }
  },
  {
   "cell_type": "code",
   "execution_count": 29,
   "outputs": [
    {
     "data": {
      "text/plain": "    A   B   C   D    B    D    F\n0  A0  B0  C0  D0  NaN  NaN  NaN\n1  A1  B1  C1  D1  NaN  NaN  NaN\n2  A2  B2  C2  D2   B2   D2   F2\n3  A3  B3  C3  D3   B3   D3   F3",
      "text/html": "<div>\n<style scoped>\n    .dataframe tbody tr th:only-of-type {\n        vertical-align: middle;\n    }\n\n    .dataframe tbody tr th {\n        vertical-align: top;\n    }\n\n    .dataframe thead th {\n        text-align: right;\n    }\n</style>\n<table border=\"1\" class=\"dataframe\">\n  <thead>\n    <tr style=\"text-align: right;\">\n      <th></th>\n      <th>A</th>\n      <th>B</th>\n      <th>C</th>\n      <th>D</th>\n      <th>B</th>\n      <th>D</th>\n      <th>F</th>\n    </tr>\n  </thead>\n  <tbody>\n    <tr>\n      <th>0</th>\n      <td>A0</td>\n      <td>B0</td>\n      <td>C0</td>\n      <td>D0</td>\n      <td>NaN</td>\n      <td>NaN</td>\n      <td>NaN</td>\n    </tr>\n    <tr>\n      <th>1</th>\n      <td>A1</td>\n      <td>B1</td>\n      <td>C1</td>\n      <td>D1</td>\n      <td>NaN</td>\n      <td>NaN</td>\n      <td>NaN</td>\n    </tr>\n    <tr>\n      <th>2</th>\n      <td>A2</td>\n      <td>B2</td>\n      <td>C2</td>\n      <td>D2</td>\n      <td>B2</td>\n      <td>D2</td>\n      <td>F2</td>\n    </tr>\n    <tr>\n      <th>3</th>\n      <td>A3</td>\n      <td>B3</td>\n      <td>C3</td>\n      <td>D3</td>\n      <td>B3</td>\n      <td>D3</td>\n      <td>F3</td>\n    </tr>\n  </tbody>\n</table>\n</div>"
     },
     "execution_count": 29,
     "metadata": {},
     "output_type": "execute_result"
    }
   ],
   "source": [
    "result = pd.concat([df1, df4], axis=1).reindex(df1.index)\n",
    "result"
   ],
   "metadata": {
    "collapsed": false,
    "ExecuteTime": {
     "start_time": "2023-05-11T11:53:41.431833Z",
     "end_time": "2023-05-11T11:53:41.447765Z"
    }
   }
  },
  {
   "cell_type": "code",
   "execution_count": 32,
   "outputs": [
    {
     "data": {
      "text/plain": "     A   B    C   D    F\n0   A0  B0   C0  D0  NaN\n1   A1  B1   C1  D1  NaN\n2   A2  B2   C2  D2  NaN\n3   A3  B3   C3  D3  NaN\n4  NaN  B2  NaN  D2   F2\n5  NaN  B3  NaN  D3   F3\n6  NaN  B6  NaN  D6   F6\n7  NaN  B7  NaN  D7   F7",
      "text/html": "<div>\n<style scoped>\n    .dataframe tbody tr th:only-of-type {\n        vertical-align: middle;\n    }\n\n    .dataframe tbody tr th {\n        vertical-align: top;\n    }\n\n    .dataframe thead th {\n        text-align: right;\n    }\n</style>\n<table border=\"1\" class=\"dataframe\">\n  <thead>\n    <tr style=\"text-align: right;\">\n      <th></th>\n      <th>A</th>\n      <th>B</th>\n      <th>C</th>\n      <th>D</th>\n      <th>F</th>\n    </tr>\n  </thead>\n  <tbody>\n    <tr>\n      <th>0</th>\n      <td>A0</td>\n      <td>B0</td>\n      <td>C0</td>\n      <td>D0</td>\n      <td>NaN</td>\n    </tr>\n    <tr>\n      <th>1</th>\n      <td>A1</td>\n      <td>B1</td>\n      <td>C1</td>\n      <td>D1</td>\n      <td>NaN</td>\n    </tr>\n    <tr>\n      <th>2</th>\n      <td>A2</td>\n      <td>B2</td>\n      <td>C2</td>\n      <td>D2</td>\n      <td>NaN</td>\n    </tr>\n    <tr>\n      <th>3</th>\n      <td>A3</td>\n      <td>B3</td>\n      <td>C3</td>\n      <td>D3</td>\n      <td>NaN</td>\n    </tr>\n    <tr>\n      <th>4</th>\n      <td>NaN</td>\n      <td>B2</td>\n      <td>NaN</td>\n      <td>D2</td>\n      <td>F2</td>\n    </tr>\n    <tr>\n      <th>5</th>\n      <td>NaN</td>\n      <td>B3</td>\n      <td>NaN</td>\n      <td>D3</td>\n      <td>F3</td>\n    </tr>\n    <tr>\n      <th>6</th>\n      <td>NaN</td>\n      <td>B6</td>\n      <td>NaN</td>\n      <td>D6</td>\n      <td>F6</td>\n    </tr>\n    <tr>\n      <th>7</th>\n      <td>NaN</td>\n      <td>B7</td>\n      <td>NaN</td>\n      <td>D7</td>\n      <td>F7</td>\n    </tr>\n  </tbody>\n</table>\n</div>"
     },
     "execution_count": 32,
     "metadata": {},
     "output_type": "execute_result"
    }
   ],
   "source": [
    "result = pd.concat([df1, df4], ignore_index=True, sort=False)\n",
    "result"
   ],
   "metadata": {
    "collapsed": false,
    "ExecuteTime": {
     "start_time": "2023-05-11T11:56:05.463026Z",
     "end_time": "2023-05-11T11:56:05.490847Z"
    }
   }
  },
  {
   "cell_type": "code",
   "execution_count": 36,
   "outputs": [
    {
     "data": {
      "text/plain": "    0   1   2   3   4\n0  A0  B0  C0  D0  X0\n1  A1  B1  C1  D1  X1\n2  A2  B2  C2  D2  X2\n3  A3  B3  C3  D3  X3",
      "text/html": "<div>\n<style scoped>\n    .dataframe tbody tr th:only-of-type {\n        vertical-align: middle;\n    }\n\n    .dataframe tbody tr th {\n        vertical-align: top;\n    }\n\n    .dataframe thead th {\n        text-align: right;\n    }\n</style>\n<table border=\"1\" class=\"dataframe\">\n  <thead>\n    <tr style=\"text-align: right;\">\n      <th></th>\n      <th>0</th>\n      <th>1</th>\n      <th>2</th>\n      <th>3</th>\n      <th>4</th>\n    </tr>\n  </thead>\n  <tbody>\n    <tr>\n      <th>0</th>\n      <td>A0</td>\n      <td>B0</td>\n      <td>C0</td>\n      <td>D0</td>\n      <td>X0</td>\n    </tr>\n    <tr>\n      <th>1</th>\n      <td>A1</td>\n      <td>B1</td>\n      <td>C1</td>\n      <td>D1</td>\n      <td>X1</td>\n    </tr>\n    <tr>\n      <th>2</th>\n      <td>A2</td>\n      <td>B2</td>\n      <td>C2</td>\n      <td>D2</td>\n      <td>X2</td>\n    </tr>\n    <tr>\n      <th>3</th>\n      <td>A3</td>\n      <td>B3</td>\n      <td>C3</td>\n      <td>D3</td>\n      <td>X3</td>\n    </tr>\n  </tbody>\n</table>\n</div>"
     },
     "execution_count": 36,
     "metadata": {},
     "output_type": "execute_result"
    }
   ],
   "source": [
    "s1=pd.Series([\"X0\", \"X1\", \"X2\", \"X3\"], name=\"X\")\n",
    "result = pd.concat([df1, s1], axis=1)\n",
    "# This trick will be useful can right loop data inside [] series\n",
    "result = pd.concat([df1, s2, s2, s2], axis=1)"
   ],
   "metadata": {
    "collapsed": false,
    "ExecuteTime": {
     "start_time": "2023-05-11T14:55:50.594805Z",
     "end_time": "2023-05-11T14:55:50.618240Z"
    }
   }
  },
  {
   "cell_type": "code",
   "execution_count": 43,
   "outputs": [
    {
     "data": {
      "text/plain": "    A   B   C   D   0   1     2     3\n0  A0  B0  C0  D0  _0  _0  _000  _000\n1  A1  B1  C1  D1  _1  _1  _111  _111\n2  A2  B2  C2  D2  _2  _2  _222  _222\n3  A3  B3  C3  D3  _3  _3  _333  _333",
      "text/html": "<div>\n<style scoped>\n    .dataframe tbody tr th:only-of-type {\n        vertical-align: middle;\n    }\n\n    .dataframe tbody tr th {\n        vertical-align: top;\n    }\n\n    .dataframe thead th {\n        text-align: right;\n    }\n</style>\n<table border=\"1\" class=\"dataframe\">\n  <thead>\n    <tr style=\"text-align: right;\">\n      <th></th>\n      <th>A</th>\n      <th>B</th>\n      <th>C</th>\n      <th>D</th>\n      <th>0</th>\n      <th>1</th>\n      <th>2</th>\n      <th>3</th>\n    </tr>\n  </thead>\n  <tbody>\n    <tr>\n      <th>0</th>\n      <td>A0</td>\n      <td>B0</td>\n      <td>C0</td>\n      <td>D0</td>\n      <td>_0</td>\n      <td>_0</td>\n      <td>_000</td>\n      <td>_000</td>\n    </tr>\n    <tr>\n      <th>1</th>\n      <td>A1</td>\n      <td>B1</td>\n      <td>C1</td>\n      <td>D1</td>\n      <td>_1</td>\n      <td>_1</td>\n      <td>_111</td>\n      <td>_111</td>\n    </tr>\n    <tr>\n      <th>2</th>\n      <td>A2</td>\n      <td>B2</td>\n      <td>C2</td>\n      <td>D2</td>\n      <td>_2</td>\n      <td>_2</td>\n      <td>_222</td>\n      <td>_222</td>\n    </tr>\n    <tr>\n      <th>3</th>\n      <td>A3</td>\n      <td>B3</td>\n      <td>C3</td>\n      <td>D3</td>\n      <td>_3</td>\n      <td>_3</td>\n      <td>_333</td>\n      <td>_333</td>\n    </tr>\n  </tbody>\n</table>\n</div>"
     },
     "execution_count": 43,
     "metadata": {},
     "output_type": "execute_result"
    }
   ],
   "source": [
    "s2 = pd.Series([\"_0\", \"_1\", \"_2\", \"_3\"])\n",
    "s3 = pd.Series([\"_000\", \"_111\", \"_222\", \"_333\"])\n",
    "\n",
    "result = pd.concat([df1, s2, s2, s3,s3], axis=1,)\n",
    "result\n",
    "\n",
    "#############\n",
    "result = pd.concat([df1, s2, s2, s3,s3], ignore_index=True, sort=False)\n",
    "result\n",
    "\n"
   ],
   "metadata": {
    "collapsed": false,
    "ExecuteTime": {
     "start_time": "2023-05-11T15:02:28.263954Z",
     "end_time": "2023-05-11T15:02:28.302867Z"
    }
   }
  },
  {
   "cell_type": "code",
   "execution_count": 44,
   "outputs": [
    {
     "data": {
      "text/plain": "   foo  0  1\n0    0  0  0\n1    1  1  1\n2    2  2  4\n3    3  3  5",
      "text/html": "<div>\n<style scoped>\n    .dataframe tbody tr th:only-of-type {\n        vertical-align: middle;\n    }\n\n    .dataframe tbody tr th {\n        vertical-align: top;\n    }\n\n    .dataframe thead th {\n        text-align: right;\n    }\n</style>\n<table border=\"1\" class=\"dataframe\">\n  <thead>\n    <tr style=\"text-align: right;\">\n      <th></th>\n      <th>foo</th>\n      <th>0</th>\n      <th>1</th>\n    </tr>\n  </thead>\n  <tbody>\n    <tr>\n      <th>0</th>\n      <td>0</td>\n      <td>0</td>\n      <td>0</td>\n    </tr>\n    <tr>\n      <th>1</th>\n      <td>1</td>\n      <td>1</td>\n      <td>1</td>\n    </tr>\n    <tr>\n      <th>2</th>\n      <td>2</td>\n      <td>2</td>\n      <td>4</td>\n    </tr>\n    <tr>\n      <th>3</th>\n      <td>3</td>\n      <td>3</td>\n      <td>5</td>\n    </tr>\n  </tbody>\n</table>\n</div>"
     },
     "execution_count": 44,
     "metadata": {},
     "output_type": "execute_result"
    }
   ],
   "source": [
    "s3 = pd.Series([0, 1, 2, 3], name=\"foo\")\n",
    "\n",
    "s4 = pd.Series([0, 1, 2, 3])\n",
    "\n",
    "s5 = pd.Series([0, 1, 4, 5])\n",
    "\n",
    "pd.concat([s3, s4, s5], axis=1)"
   ],
   "metadata": {
    "collapsed": false,
    "ExecuteTime": {
     "start_time": "2023-05-11T15:03:58.124130Z",
     "end_time": "2023-05-11T15:03:58.147849Z"
    }
   }
  },
  {
   "cell_type": "code",
   "execution_count": 45,
   "outputs": [
    {
     "data": {
      "text/plain": "   red  blue  yellow\n0    0     0       0\n1    1     1       1\n2    2     2       4\n3    3     3       5",
      "text/html": "<div>\n<style scoped>\n    .dataframe tbody tr th:only-of-type {\n        vertical-align: middle;\n    }\n\n    .dataframe tbody tr th {\n        vertical-align: top;\n    }\n\n    .dataframe thead th {\n        text-align: right;\n    }\n</style>\n<table border=\"1\" class=\"dataframe\">\n  <thead>\n    <tr style=\"text-align: right;\">\n      <th></th>\n      <th>red</th>\n      <th>blue</th>\n      <th>yellow</th>\n    </tr>\n  </thead>\n  <tbody>\n    <tr>\n      <th>0</th>\n      <td>0</td>\n      <td>0</td>\n      <td>0</td>\n    </tr>\n    <tr>\n      <th>1</th>\n      <td>1</td>\n      <td>1</td>\n      <td>1</td>\n    </tr>\n    <tr>\n      <th>2</th>\n      <td>2</td>\n      <td>2</td>\n      <td>4</td>\n    </tr>\n    <tr>\n      <th>3</th>\n      <td>3</td>\n      <td>3</td>\n      <td>5</td>\n    </tr>\n  </tbody>\n</table>\n</div>"
     },
     "execution_count": 45,
     "metadata": {},
     "output_type": "execute_result"
    }
   ],
   "source": [
    "pd.concat([s3, s4, s5], axis=1, keys=[\"red\", \"blue\", \"yellow\"])"
   ],
   "metadata": {
    "collapsed": false,
    "ExecuteTime": {
     "start_time": "2023-05-11T15:04:25.143413Z",
     "end_time": "2023-05-11T15:04:25.237132Z"
    }
   }
  },
  {
   "cell_type": "code",
   "execution_count": 48,
   "outputs": [
    {
     "data": {
      "text/plain": "        A    B    C    D\nx 0    A0   B0   C0   D0\n  1    A1   B1   C1   D1\n  2    A2   B2   C2   D2\n  3    A3   B3   C3   D3\ny 4    A4   B4   C4   D4\n  5    A5   B5   C5   D5\n  6    A6   B6   C6   D6\n  7    A7   B7   C7   D7\nz 8    A8   B8   C8   D8\n  9    A9   B9   C9   D9\n  10  A10  B10  C10  D10\n  11  A11  B11  C11  D11",
      "text/html": "<div>\n<style scoped>\n    .dataframe tbody tr th:only-of-type {\n        vertical-align: middle;\n    }\n\n    .dataframe tbody tr th {\n        vertical-align: top;\n    }\n\n    .dataframe thead th {\n        text-align: right;\n    }\n</style>\n<table border=\"1\" class=\"dataframe\">\n  <thead>\n    <tr style=\"text-align: right;\">\n      <th></th>\n      <th></th>\n      <th>A</th>\n      <th>B</th>\n      <th>C</th>\n      <th>D</th>\n    </tr>\n  </thead>\n  <tbody>\n    <tr>\n      <th rowspan=\"4\" valign=\"top\">x</th>\n      <th>0</th>\n      <td>A0</td>\n      <td>B0</td>\n      <td>C0</td>\n      <td>D0</td>\n    </tr>\n    <tr>\n      <th>1</th>\n      <td>A1</td>\n      <td>B1</td>\n      <td>C1</td>\n      <td>D1</td>\n    </tr>\n    <tr>\n      <th>2</th>\n      <td>A2</td>\n      <td>B2</td>\n      <td>C2</td>\n      <td>D2</td>\n    </tr>\n    <tr>\n      <th>3</th>\n      <td>A3</td>\n      <td>B3</td>\n      <td>C3</td>\n      <td>D3</td>\n    </tr>\n    <tr>\n      <th rowspan=\"4\" valign=\"top\">y</th>\n      <th>4</th>\n      <td>A4</td>\n      <td>B4</td>\n      <td>C4</td>\n      <td>D4</td>\n    </tr>\n    <tr>\n      <th>5</th>\n      <td>A5</td>\n      <td>B5</td>\n      <td>C5</td>\n      <td>D5</td>\n    </tr>\n    <tr>\n      <th>6</th>\n      <td>A6</td>\n      <td>B6</td>\n      <td>C6</td>\n      <td>D6</td>\n    </tr>\n    <tr>\n      <th>7</th>\n      <td>A7</td>\n      <td>B7</td>\n      <td>C7</td>\n      <td>D7</td>\n    </tr>\n    <tr>\n      <th rowspan=\"4\" valign=\"top\">z</th>\n      <th>8</th>\n      <td>A8</td>\n      <td>B8</td>\n      <td>C8</td>\n      <td>D8</td>\n    </tr>\n    <tr>\n      <th>9</th>\n      <td>A9</td>\n      <td>B9</td>\n      <td>C9</td>\n      <td>D9</td>\n    </tr>\n    <tr>\n      <th>10</th>\n      <td>A10</td>\n      <td>B10</td>\n      <td>C10</td>\n      <td>D10</td>\n    </tr>\n    <tr>\n      <th>11</th>\n      <td>A11</td>\n      <td>B11</td>\n      <td>C11</td>\n      <td>D11</td>\n    </tr>\n  </tbody>\n</table>\n</div>"
     },
     "execution_count": 48,
     "metadata": {},
     "output_type": "execute_result"
    }
   ],
   "source": [
    "#result = pd.concat(frames, keys=[\"x\", \"y\", \"z\"])\n",
    "\n",
    "pieces = {\"x\": df1, \"y\": df2, \"z\": df3}\n",
    "\n",
    "result = pd.concat(pieces)\n",
    "\n",
    "result"
   ],
   "metadata": {
    "collapsed": false,
    "ExecuteTime": {
     "start_time": "2023-05-11T15:08:10.667290Z",
     "end_time": "2023-05-11T15:08:10.696666Z"
    }
   }
  },
  {
   "cell_type": "code",
   "execution_count": 55,
   "outputs": [
    {
     "data": {
      "text/plain": "                A    B    C    D\ngroup_key                       \nx         0    A0   B0   C0   D0\n          1    A1   B1   C1   D1\n          2    A2   B2   C2   D2\n          3    A3   B3   C3   D3\ny         4    A4   B4   C4   D4\n          5    A5   B5   C5   D5\n          6    A6   B6   C6   D6\n          7    A7   B7   C7   D7\nz         8    A8   B8   C8   D8\n          9    A9   B9   C9   D9\n          10  A10  B10  C10  D10\n          11  A11  B11  C11  D11",
      "text/html": "<div>\n<style scoped>\n    .dataframe tbody tr th:only-of-type {\n        vertical-align: middle;\n    }\n\n    .dataframe tbody tr th {\n        vertical-align: top;\n    }\n\n    .dataframe thead th {\n        text-align: right;\n    }\n</style>\n<table border=\"1\" class=\"dataframe\">\n  <thead>\n    <tr style=\"text-align: right;\">\n      <th></th>\n      <th></th>\n      <th>A</th>\n      <th>B</th>\n      <th>C</th>\n      <th>D</th>\n    </tr>\n    <tr>\n      <th>group_key</th>\n      <th></th>\n      <th></th>\n      <th></th>\n      <th></th>\n      <th></th>\n    </tr>\n  </thead>\n  <tbody>\n    <tr>\n      <th rowspan=\"4\" valign=\"top\">x</th>\n      <th>0</th>\n      <td>A0</td>\n      <td>B0</td>\n      <td>C0</td>\n      <td>D0</td>\n    </tr>\n    <tr>\n      <th>1</th>\n      <td>A1</td>\n      <td>B1</td>\n      <td>C1</td>\n      <td>D1</td>\n    </tr>\n    <tr>\n      <th>2</th>\n      <td>A2</td>\n      <td>B2</td>\n      <td>C2</td>\n      <td>D2</td>\n    </tr>\n    <tr>\n      <th>3</th>\n      <td>A3</td>\n      <td>B3</td>\n      <td>C3</td>\n      <td>D3</td>\n    </tr>\n    <tr>\n      <th rowspan=\"4\" valign=\"top\">y</th>\n      <th>4</th>\n      <td>A4</td>\n      <td>B4</td>\n      <td>C4</td>\n      <td>D4</td>\n    </tr>\n    <tr>\n      <th>5</th>\n      <td>A5</td>\n      <td>B5</td>\n      <td>C5</td>\n      <td>D5</td>\n    </tr>\n    <tr>\n      <th>6</th>\n      <td>A6</td>\n      <td>B6</td>\n      <td>C6</td>\n      <td>D6</td>\n    </tr>\n    <tr>\n      <th>7</th>\n      <td>A7</td>\n      <td>B7</td>\n      <td>C7</td>\n      <td>D7</td>\n    </tr>\n    <tr>\n      <th rowspan=\"4\" valign=\"top\">z</th>\n      <th>8</th>\n      <td>A8</td>\n      <td>B8</td>\n      <td>C8</td>\n      <td>D8</td>\n    </tr>\n    <tr>\n      <th>9</th>\n      <td>A9</td>\n      <td>B9</td>\n      <td>C9</td>\n      <td>D9</td>\n    </tr>\n    <tr>\n      <th>10</th>\n      <td>A10</td>\n      <td>B10</td>\n      <td>C10</td>\n      <td>D10</td>\n    </tr>\n    <tr>\n      <th>11</th>\n      <td>A11</td>\n      <td>B11</td>\n      <td>C11</td>\n      <td>D11</td>\n    </tr>\n  </tbody>\n</table>\n</div>"
     },
     "execution_count": 55,
     "metadata": {},
     "output_type": "execute_result"
    }
   ],
   "source": [
    "result.index.nlevels\n",
    "result\n",
    "result = pd.concat(\n",
    "    pieces, keys=[\"x\", \"y\", \"z\"], levels=[[\"z\", \"y\", \"x\", \"w\"]], names=[\"group_key\"]\n",
    ")\n",
    "result"
   ],
   "metadata": {
    "collapsed": false,
    "ExecuteTime": {
     "start_time": "2023-05-11T15:16:08.393200Z",
     "end_time": "2023-05-11T15:16:08.421119Z"
    }
   }
  },
  {
   "cell_type": "code",
   "execution_count": 55,
   "outputs": [],
   "source": [
    "s2 = pd.Series([\"X0\", \"X1\", \"X2\", \"X3\"], index=[\"A\", \"B\", \"C\", \"D\"])\n",
    "\n",
    "result = pd.concat([df1, s2.to_frame().T], ignore_index=True)"
   ],
   "metadata": {
    "collapsed": false,
    "ExecuteTime": {
     "start_time": "2023-05-11T15:16:08.645290Z",
     "end_time": "2023-05-11T15:16:08.675295Z"
    }
   }
  },
  {
   "cell_type": "code",
   "execution_count": 4,
   "outputs": [
    {
     "name": "stdout",
     "output_type": "stream",
     "text": [
      "<class 'pandas.core.frame.DataFrame'>\n",
      "Index: 4 entries, 0 to 3\n",
      "Data columns (total 3 columns):\n",
      " #   Column  Non-Null Count  Dtype \n",
      "---  ------  --------------  ----- \n",
      " 0   B       1 non-null      object\n",
      " 1   C       1 non-null      object\n",
      " 2   A       4 non-null      object\n",
      "dtypes: object(3)\n",
      "memory usage: 128.0+ bytes\n"
     ]
    },
    {
     "data": {
      "text/plain": "['B', 'C', 'A']"
     },
     "execution_count": 4,
     "metadata": {},
     "output_type": "execute_result"
    }
   ],
   "source": [
    "\n",
    "import pandas as pd\n",
    "\n",
    "df1 = pd.DataFrame(\n",
    "    {\n",
    "        \"A\": [\"[babie,brother,sister,okey]\"],\n",
    "        \"B\": [\"timestmap 123\"],\n",
    "        \"C\": [\"2023-05-22T10:31:03\"]\n",
    "    },\n",
    "    index=[0],\n",
    ")\n",
    "\n",
    "\n",
    "# Remove square brackets from column A\n",
    "df1['A'] = df1['A'].str.strip('[]')\n",
    "\n",
    "# Split the values in column A for each row\n",
    "split_values = df1['A'].str.split(',').explode()\n",
    "df2 = split_values.rename(f\"A\").reset_index(drop=True)\n",
    "\n",
    "# Join df2 with the other columns from df1\n",
    "df_result = pd.concat([df1[['B', 'C']], df2], axis=1)\n",
    "\n",
    "df_result.info()\n",
    "\n",
    "list(df_result.columns.values)"
   ],
   "metadata": {
    "collapsed": false,
    "ExecuteTime": {
     "start_time": "2023-05-23T01:54:31.057438Z",
     "end_time": "2023-05-23T01:54:31.080332Z"
    }
   }
  },
  {
   "cell_type": "code",
   "execution_count": 9,
   "outputs": [
    {
     "data": {
      "text/plain": "['A', 'B', 'C']"
     },
     "execution_count": 9,
     "metadata": {},
     "output_type": "execute_result"
    }
   ],
   "source": [
    "sorted(df_result)"
   ],
   "metadata": {
    "collapsed": false,
    "ExecuteTime": {
     "start_time": "2023-05-23T01:57:21.394856Z",
     "end_time": "2023-05-23T01:57:21.419405Z"
    }
   }
  },
  {
   "cell_type": "code",
   "execution_count": 10,
   "outputs": [
    {
     "data": {
      "text/plain": "['B', 'C', 'A']"
     },
     "execution_count": 10,
     "metadata": {},
     "output_type": "execute_result"
    }
   ],
   "source": [
    "list(df_result.columns)"
   ],
   "metadata": {
    "collapsed": false,
    "ExecuteTime": {
     "start_time": "2023-05-23T01:57:25.002487Z",
     "end_time": "2023-05-23T01:57:25.035697Z"
    }
   }
  },
  {
   "cell_type": "code",
   "execution_count": 12,
   "outputs": [
    {
     "name": "stdout",
     "output_type": "stream",
     "text": [
      "B\n",
      "C\n",
      "A\n"
     ]
    }
   ],
   "source": [
    "for col in df_result.columns:\n",
    "    print(col)"
   ],
   "metadata": {
    "collapsed": false,
    "ExecuteTime": {
     "start_time": "2023-05-23T01:58:13.645256Z",
     "end_time": "2023-05-23T01:58:13.656723Z"
    }
   }
  },
  {
   "cell_type": "code",
   "execution_count": 13,
   "outputs": [
    {
     "data": {
      "text/plain": "                           A              B                    C        A\n0  babie,brother,sister,okey  timestmap 123  2023-05-22T10:31:03    babie\n1                        NaN            NaN                  NaN  brother\n2                        NaN            NaN                  NaN   sister\n3                        NaN            NaN                  NaN     okey",
      "text/html": "<div>\n<style scoped>\n    .dataframe tbody tr th:only-of-type {\n        vertical-align: middle;\n    }\n\n    .dataframe tbody tr th {\n        vertical-align: top;\n    }\n\n    .dataframe thead th {\n        text-align: right;\n    }\n</style>\n<table border=\"1\" class=\"dataframe\">\n  <thead>\n    <tr style=\"text-align: right;\">\n      <th></th>\n      <th>A</th>\n      <th>B</th>\n      <th>C</th>\n      <th>A</th>\n    </tr>\n  </thead>\n  <tbody>\n    <tr>\n      <th>0</th>\n      <td>babie,brother,sister,okey</td>\n      <td>timestmap 123</td>\n      <td>2023-05-22T10:31:03</td>\n      <td>babie</td>\n    </tr>\n    <tr>\n      <th>1</th>\n      <td>NaN</td>\n      <td>NaN</td>\n      <td>NaN</td>\n      <td>brother</td>\n    </tr>\n    <tr>\n      <th>2</th>\n      <td>NaN</td>\n      <td>NaN</td>\n      <td>NaN</td>\n      <td>sister</td>\n    </tr>\n    <tr>\n      <th>3</th>\n      <td>NaN</td>\n      <td>NaN</td>\n      <td>NaN</td>\n      <td>okey</td>\n    </tr>\n  </tbody>\n</table>\n</div>"
     },
     "execution_count": 13,
     "metadata": {},
     "output_type": "execute_result"
    }
   ],
   "source": [
    "df_ = pd.concat([df1, df2], axis=1)\n",
    "df_"
   ],
   "metadata": {
    "collapsed": false,
    "ExecuteTime": {
     "start_time": "2023-05-23T02:05:49.187554Z",
     "end_time": "2023-05-23T02:05:49.251108Z"
    }
   }
  },
  {
   "cell_type": "code",
   "execution_count": 17,
   "outputs": [
    {
     "name": "stdout",
     "output_type": "stream",
     "text": [
      "                                     A              B                    C\n",
      "0   HK_INTERNAL#HK_CONTRIB/FRA/CNH/3X6  timestmap 123  2023-05-22T10:31:03\n",
      "0   HK_INTERNAL#HK_CONTRIB/FRA/CNH/3X9  timestmap 123  2023-05-22T10:31:03\n",
      "0  HK_INTERNAL#HK_CONTRIB/FRA/CNH/6X12  timestmap 123  2023-05-22T10:31:03\n",
      "0   HK_INTERNAL#HK_CONTRIB/FRA/CNH/6X9  timestmap 123  2023-05-22T10:31:03\n",
      "0  HK_INTERNAL#HK_CONTRIB/FRA/CNH/9X12  timestmap 123  2023-05-22T10:31:03\n"
     ]
    }
   ],
   "source": [
    "import pandas as pd\n",
    "\n",
    "df1 = pd.DataFrame(\n",
    "    {\n",
    "        \"A\": [\"[HK_INTERNAL#HK_CONTRIB/FRA/CNH/3X6, HK_INTERNAL#HK_CONTRIB/FRA/CNH/3X9, HK_INTERNAL#HK_CONTRIB/FRA/CNH/6X12, HK_INTERNAL#HK_CONTRIB/FRA/CNH/6X9, HK_INTERNAL#HK_CONTRIB/FRA/CNH/9X12]\"],\n",
    "        \"B\": [\"timestmap 123\"],\n",
    "        \"C\": [\"2023-05-22T10:31:03\"]\n",
    "    },\n",
    "    index=[0],\n",
    ")\n",
    "# Remove square brackets from column A\n",
    "df1['A'] = df1['A'].str.strip('[]')\n",
    "\n",
    "# Split the values in column A for each row\n",
    "split_values = df1['A'].str.split(',').explode().str.strip()\n",
    "df2 = pd.DataFrame({\"A\": split_values})\n",
    "\n",
    "# Repeat the values from columns B and C for each row\n",
    "df2['B'] = df1['B'].repeat(len(split_values)).reset_index(drop=True)\n",
    "df2['C'] = df1['C'].repeat(len(split_values)).reset_index(drop=True)\n",
    "\n",
    "print(df2)"
   ],
   "metadata": {
    "collapsed": false,
    "ExecuteTime": {
     "start_time": "2023-05-23T16:06:59.809952Z",
     "end_time": "2023-05-23T16:06:59.860426Z"
    }
   }
  },
  {
   "cell_type": "code",
   "execution_count": 15,
   "outputs": [
    {
     "ename": "ValueError",
     "evalue": "operands could not be broadcast together with shape (1,) (5,)",
     "output_type": "error",
     "traceback": [
      "\u001B[1;31m---------------------------------------------------------------------------\u001B[0m",
      "\u001B[1;31mValueError\u001B[0m                                Traceback (most recent call last)",
      "Cell \u001B[1;32mIn[15], line 2\u001B[0m\n\u001B[0;32m      1\u001B[0m \u001B[38;5;66;03m# Repeat the values from columns B and C for each row\u001B[39;00m\n\u001B[1;32m----> 2\u001B[0m df2[\u001B[38;5;124m'\u001B[39m\u001B[38;5;124mB\u001B[39m\u001B[38;5;124m'\u001B[39m] \u001B[38;5;241m=\u001B[39m \u001B[43mdf1\u001B[49m\u001B[43m[\u001B[49m\u001B[38;5;124;43m'\u001B[39;49m\u001B[38;5;124;43mB\u001B[39;49m\u001B[38;5;124;43m'\u001B[39;49m\u001B[43m]\u001B[49m\u001B[38;5;241;43m.\u001B[39;49m\u001B[43mrepeat\u001B[49m\u001B[43m(\u001B[49m\u001B[43msplit_values\u001B[49m\u001B[38;5;241;43m.\u001B[39;49m\u001B[43mstr\u001B[49m\u001B[38;5;241;43m.\u001B[39;49m\u001B[43mcount\u001B[49m\u001B[43m(\u001B[49m\u001B[38;5;124;43m'\u001B[39;49m\u001B[38;5;124;43m,\u001B[39;49m\u001B[38;5;124;43m'\u001B[39;49m\u001B[43m)\u001B[49m\u001B[43m \u001B[49m\u001B[38;5;241;43m+\u001B[39;49m\u001B[43m \u001B[49m\u001B[38;5;241;43m1\u001B[39;49m\u001B[43m)\u001B[49m\u001B[38;5;241m.\u001B[39mreset_index(drop\u001B[38;5;241m=\u001B[39m\u001B[38;5;28;01mTrue\u001B[39;00m)\n\u001B[0;32m      3\u001B[0m df2[\u001B[38;5;124m'\u001B[39m\u001B[38;5;124mC\u001B[39m\u001B[38;5;124m'\u001B[39m] \u001B[38;5;241m=\u001B[39m df1[\u001B[38;5;124m'\u001B[39m\u001B[38;5;124mC\u001B[39m\u001B[38;5;124m'\u001B[39m]\u001B[38;5;241m.\u001B[39mrepeat(split_values\u001B[38;5;241m.\u001B[39mstr\u001B[38;5;241m.\u001B[39mcount(\u001B[38;5;124m'\u001B[39m\u001B[38;5;124m,\u001B[39m\u001B[38;5;124m'\u001B[39m) \u001B[38;5;241m+\u001B[39m \u001B[38;5;241m1\u001B[39m)\u001B[38;5;241m.\u001B[39mreset_index(drop\u001B[38;5;241m=\u001B[39m\u001B[38;5;28;01mTrue\u001B[39;00m)\n\u001B[0;32m      4\u001B[0m df2\n",
      "File \u001B[1;32m~\\DataspellProjects\\pythonProject\\venv\\lib\\site-packages\\pandas\\core\\series.py:1430\u001B[0m, in \u001B[0;36mSeries.repeat\u001B[1;34m(self, repeats, axis)\u001B[0m\n\u001B[0;32m   1379\u001B[0m \u001B[38;5;250m\u001B[39m\u001B[38;5;124;03m\"\"\"\u001B[39;00m\n\u001B[0;32m   1380\u001B[0m \u001B[38;5;124;03mRepeat elements of a Series.\u001B[39;00m\n\u001B[0;32m   1381\u001B[0m \n\u001B[1;32m   (...)\u001B[0m\n\u001B[0;32m   1427\u001B[0m \u001B[38;5;124;03mdtype: object\u001B[39;00m\n\u001B[0;32m   1428\u001B[0m \u001B[38;5;124;03m\"\"\"\u001B[39;00m\n\u001B[0;32m   1429\u001B[0m nv\u001B[38;5;241m.\u001B[39mvalidate_repeat((), {\u001B[38;5;124m\"\u001B[39m\u001B[38;5;124maxis\u001B[39m\u001B[38;5;124m\"\u001B[39m: axis})\n\u001B[1;32m-> 1430\u001B[0m new_index \u001B[38;5;241m=\u001B[39m \u001B[38;5;28;43mself\u001B[39;49m\u001B[38;5;241;43m.\u001B[39;49m\u001B[43mindex\u001B[49m\u001B[38;5;241;43m.\u001B[39;49m\u001B[43mrepeat\u001B[49m\u001B[43m(\u001B[49m\u001B[43mrepeats\u001B[49m\u001B[43m)\u001B[49m\n\u001B[0;32m   1431\u001B[0m new_values \u001B[38;5;241m=\u001B[39m \u001B[38;5;28mself\u001B[39m\u001B[38;5;241m.\u001B[39m_values\u001B[38;5;241m.\u001B[39mrepeat(repeats)\n\u001B[0;32m   1432\u001B[0m \u001B[38;5;28;01mreturn\u001B[39;00m \u001B[38;5;28mself\u001B[39m\u001B[38;5;241m.\u001B[39m_constructor(new_values, index\u001B[38;5;241m=\u001B[39mnew_index, copy\u001B[38;5;241m=\u001B[39m\u001B[38;5;28;01mFalse\u001B[39;00m)\u001B[38;5;241m.\u001B[39m__finalize__(\n\u001B[0;32m   1433\u001B[0m     \u001B[38;5;28mself\u001B[39m, method\u001B[38;5;241m=\u001B[39m\u001B[38;5;124m\"\u001B[39m\u001B[38;5;124mrepeat\u001B[39m\u001B[38;5;124m\"\u001B[39m\n\u001B[0;32m   1434\u001B[0m )\n",
      "File \u001B[1;32m~\\DataspellProjects\\pythonProject\\venv\\lib\\site-packages\\pandas\\core\\indexes\\base.py:1167\u001B[0m, in \u001B[0;36mIndex.repeat\u001B[1;34m(self, repeats, axis)\u001B[0m\n\u001B[0;32m   1165\u001B[0m repeats \u001B[38;5;241m=\u001B[39m ensure_platform_int(repeats)\n\u001B[0;32m   1166\u001B[0m nv\u001B[38;5;241m.\u001B[39mvalidate_repeat((), {\u001B[38;5;124m\"\u001B[39m\u001B[38;5;124maxis\u001B[39m\u001B[38;5;124m\"\u001B[39m: axis})\n\u001B[1;32m-> 1167\u001B[0m res_values \u001B[38;5;241m=\u001B[39m \u001B[38;5;28;43mself\u001B[39;49m\u001B[38;5;241;43m.\u001B[39;49m\u001B[43m_values\u001B[49m\u001B[38;5;241;43m.\u001B[39;49m\u001B[43mrepeat\u001B[49m\u001B[43m(\u001B[49m\u001B[43mrepeats\u001B[49m\u001B[43m)\u001B[49m\n\u001B[0;32m   1169\u001B[0m \u001B[38;5;66;03m# _constructor so RangeIndex-> Index with an int64 dtype\u001B[39;00m\n\u001B[0;32m   1170\u001B[0m \u001B[38;5;28;01mreturn\u001B[39;00m \u001B[38;5;28mself\u001B[39m\u001B[38;5;241m.\u001B[39m_constructor\u001B[38;5;241m.\u001B[39m_simple_new(res_values, name\u001B[38;5;241m=\u001B[39m\u001B[38;5;28mself\u001B[39m\u001B[38;5;241m.\u001B[39mname)\n",
      "\u001B[1;31mValueError\u001B[0m: operands could not be broadcast together with shape (1,) (5,)"
     ]
    }
   ],
   "source": [
    "# Repeat the values from columns B and C for each row\n",
    "df2['B'] = df1['B'].repeat(split_values.str.count(',') + 1).reset_index(drop=True)\n",
    "df2['C'] = df1['C'].repeat(split_values.str.count(',') + 1).reset_index(drop=True)\n",
    "df2"
   ],
   "metadata": {
    "collapsed": false
   }
  },
  {
   "cell_type": "markdown",
   "source": [],
   "metadata": {
    "collapsed": false
   }
  }
 ],
 "metadata": {
  "kernelspec": {
   "display_name": "Python 3",
   "language": "python",
   "name": "python3"
  },
  "language_info": {
   "codemirror_mode": {
    "name": "ipython",
    "version": 2
   },
   "file_extension": ".py",
   "mimetype": "text/x-python",
   "name": "python",
   "nbconvert_exporter": "python",
   "pygments_lexer": "ipython2",
   "version": "2.7.6"
  }
 },
 "nbformat": 4,
 "nbformat_minor": 0
}
